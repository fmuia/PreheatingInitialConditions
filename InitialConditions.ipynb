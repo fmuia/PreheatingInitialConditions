{
 "cells": [
  {
   "cell_type": "code",
   "execution_count": null,
   "metadata": {
    "id": "LRATxxqZCQLD"
   },
   "outputs": [],
   "source": [
    "# Generate a Gaussian Random Field in a 3D box"
   ]
  },
  {
   "cell_type": "code",
   "execution_count": 1,
   "metadata": {
    "executionInfo": {
     "elapsed": 371,
     "status": "ok",
     "timestamp": 1639575558562,
     "user": {
      "displayName": "Francesco Muia",
      "photoUrl": "https://lh3.googleusercontent.com/a/default-user=s64",
      "userId": "17686503555571486221"
     },
     "user_tz": -60
    },
    "id": "33FyBurtbqMA"
   },
   "outputs": [
    {
     "name": "stderr",
     "output_type": "stream",
     "text": [
      "Matplotlib is building the font cache; this may take a moment.\n"
     ]
    }
   ],
   "source": [
    "import numpy as np\n",
    "import math\n",
    "from mpl_toolkits.mplot3d import Axes3D\n",
    "from numpy import inf\n",
    "import matplotlib\n",
    "import matplotlib.pyplot as plt\n",
    "import matplotlib.mlab\n",
    "from random import gauss\n",
    "from random import seed\n",
    "import pandas as pd\n",
    "from pandas import Series\n",
    "from pandas.plotting import autocorrelation_plot\n",
    "import scipy\n",
    "from scipy import signal\n",
    "\n",
    "np.set_printoptions(threshold=5)"
   ]
  },
  {
   "cell_type": "code",
   "execution_count": 2,
   "metadata": {
    "colab": {
     "base_uri": "https://localhost:8080/"
    },
    "executionInfo": {
     "elapsed": 19084,
     "status": "ok",
     "timestamp": 1639575577641,
     "user": {
      "displayName": "Francesco Muia",
      "photoUrl": "https://lh3.googleusercontent.com/a/default-user=s64",
      "userId": "17686503555571486221"
     },
     "user_tz": -60
    },
    "id": "tqmYt3rgbx2b",
    "outputId": "3300f873-fbdf-4355-b228-d177d5313374"
   },
   "outputs": [
    {
     "name": "stdout",
     "output_type": "stream",
     "text": [
      "Mounted at /content/drive/\n"
     ]
    }
   ],
   "source": [
    "from google.colab import drive \n",
    "import os\n",
    "\n",
    "drive.mount('/content/drive/')\n",
    "os.chdir('/content/drive/MyDrive/Preheating/')"
   ]
  },
  {
   "cell_type": "markdown",
   "metadata": {
    "id": "Pw-q6ki3S51c"
   },
   "source": [
    "# 1D Case\n",
    "\n"
   ]
  },
  {
   "cell_type": "markdown",
   "metadata": {
    "id": "ZLyfrTu_sAPZ"
   },
   "source": [
    "Let us start from the simple 1D case.\n",
    "\n",
    "We define the box in real space as a collection of $N$ points $n \\in (0, \\dots, N-1)$.\n",
    "\n",
    "The lattice spacing is given by $\\delta x = L/N$, where $L$ is the physical length of the box.\n",
    "\n",
    "We impose periodic boundary conditions: given a function $f(n)$ we have that $f(n + N) = f(n)$.\n",
    "\n",
    "The periodic boundary conditions impose a discretization of momenta, that we denote by $\\tilde{n}$:\n",
    "\n",
    "$$\n",
    "\\tilde{n} = -\\frac{N}{2} + 1, -\\frac{N}{2} + 2, \\dots, -1, 0, 1, \\dots, \\frac{N}{2} - 1, \\frac{N}{2} \\,.\n",
    "$$\n",
    "\n",
    "We define the discrete Fourier transform of the function $\\phi$ as follows\n",
    "\n",
    "$$\n",
    "\\phi(n) = \\frac{1}{N} \\sum_{\\tilde{n}=0}^{N-1} \\tilde{\\phi}(\\tilde{n}) e^{-i \\frac{2 \\pi}{N} n \\tilde{n}} \\,.\n",
    "$$\n",
    "\n",
    "The inverse Fourier transform will be\n",
    "\n",
    "$$\n",
    "\\tilde\\phi(\\tilde{n}) = \\sum_{n=0}^{N-1} \\phi(n) e^{i \\frac{2 \\pi}{N} n \\tilde{n}} \\,.\n",
    "$$\n",
    "\n",
    "Note that one can recover the momentum in the continuum as\n",
    "\n",
    "$$\n",
    "k(\\tilde{n}) = \\frac{2 \\pi \\tilde{n}}{L} \\,.\n",
    "$$\n",
    "\n",
    "Since we have a real field, we need to impose the straightforward condition\n",
    "\n",
    "$$\n",
    "\\tilde{\\phi}(-\\tilde{n}) = \\tilde{\\phi}^*(\\tilde{n}) \\,.\n",
    "$$\n",
    "\n",
    "Let's implement these conditions. Note that in this section we will not pay attention to the size of the perturbations: we will only focus on understanding how to generate the fluctuations of a real scalar field starting from the Fourier space and checking carefully that the imaginary part is negligible. We will take care of the size of the fluctuations in the 3D section below."
   ]
  },
  {
   "cell_type": "markdown",
   "metadata": {
    "id": "6pIkVKWfuzSG"
   },
   "source": [
    "First, define the number of points in the box $N$ and the physical length $L$."
   ]
  },
  {
   "cell_type": "code",
   "execution_count": null,
   "metadata": {
    "colab": {
     "base_uri": "https://localhost:8080/"
    },
    "executionInfo": {
     "elapsed": 277,
     "status": "ok",
     "timestamp": 1638458791659,
     "user": {
      "displayName": "Francesco Muia",
      "photoUrl": "https://lh3.googleusercontent.com/a/default-user=s64",
      "userId": "17686503555571486221"
     },
     "user_tz": -60
    },
    "id": "jHvVezRJCQLO",
    "outputId": "a0743b15-228c-48a3-8491-aefeda2315fd"
   },
   "outputs": [
    {
     "name": "stdout",
     "output_type": "stream",
     "text": [
      "The physical length is: 10000000.\n",
      "The number of points in the box is: 100.\n"
     ]
    }
   ],
   "source": [
    "q = 10**5     # q = mp/m\n",
    "N = 100       # # no. of points\n",
    "L = 100*q     # physical length, in geometric units\n",
    "\n",
    "Var = (N)/(q**2)\n",
    "m = 1/q\n",
    "H = 1/q\n",
    "\n",
    "print(\"The physical length is: %d.\" %L)\n",
    "print(\"The number of points in the box is: %d.\" %N)"
   ]
  },
  {
   "cell_type": "markdown",
   "metadata": {
    "id": "cJkZ6T9NvP4e"
   },
   "source": [
    "Then we generate a 1D grid in Fourier space as explained in the paragraph above."
   ]
  },
  {
   "cell_type": "code",
   "execution_count": null,
   "metadata": {
    "colab": {
     "base_uri": "https://localhost:8080/"
    },
    "executionInfo": {
     "elapsed": 268,
     "status": "ok",
     "timestamp": 1638458795125,
     "user": {
      "displayName": "Francesco Muia",
      "photoUrl": "https://lh3.googleusercontent.com/a/default-user=s64",
      "userId": "17686503555571486221"
     },
     "user_tz": -60
    },
    "id": "qVkpcIMtb6uX",
    "outputId": "157ccfbb-338c-44ea-a7e2-fc0ddd718ce4"
   },
   "outputs": [
    {
     "name": "stdout",
     "output_type": "stream",
     "text": [
      "This should be of the form [-N/2+1, -N/2+2, ..., -1, 0, 1, ..., N/2-1, N/2]:\n",
      "[-49. -48. -47. -46. -45. -44. -43. -42. -41. -40. -39. -38. -37. -36.\n",
      " -35. -34. -33. -32. -31. -30. -29. -28. -27. -26. -25. -24. -23. -22.\n",
      " -21. -20. -19. -18. -17. -16. -15. -14. -13. -12. -11. -10.  -9.  -8.\n",
      "  -7.  -6.  -5.  -4.  -3.  -2.  -1.   0.   1.   2.   3.   4.   5.   6.\n",
      "   7.   8.   9.  10.  11.  12.  13.  14.  15.  16.  17.  18.  19.  20.\n",
      "  21.  22.  23.  24.  25.  26.  27.  28.  29.  30.  31.  32.  33.  34.\n",
      "  35.  36.  37.  38.  39.  40.  41.  42.  43.  44.  45.  46.  47.  48.\n",
      "  49.  50.]\n"
     ]
    }
   ],
   "source": [
    "nPos = np.array(np.arange(1, N/2+1)) # NB: need (N+1)/2 because upper extreme not included in np.arange\n",
    "nNeg = np.array(np.arange(-N/2+1, 0)) # NB: need -N/2+1 because point -N/2 needs to be excluded\n",
    "n1D = np.asarray(np.concatenate((nNeg, 0.0, nPos), axis = None))\n",
    "\n",
    "np.set_printoptions(threshold=np.inf)\n",
    "print(\"This should be of the form [-N/2+1, -N/2+2, ..., -1, 0, 1, ..., N/2-1, N/2]:\")\n",
    "print(n1D)\n",
    "np.set_printoptions(threshold=1000)"
   ]
  },
  {
   "cell_type": "markdown",
   "metadata": {
    "id": "5Kvbg5hPzgsW"
   },
   "source": [
    "Generate wavenumbers to compute the frequency of each mode. As said, we do not pay attention to the size of the fluctuations, therefore we set m = H = Var = 1."
   ]
  },
  {
   "cell_type": "code",
   "execution_count": null,
   "metadata": {
    "colab": {
     "base_uri": "https://localhost:8080/"
    },
    "executionInfo": {
     "elapsed": 284,
     "status": "ok",
     "timestamp": 1638458898135,
     "user": {
      "displayName": "Francesco Muia",
      "photoUrl": "https://lh3.googleusercontent.com/a/default-user=s64",
      "userId": "17686503555571486221"
     },
     "user_tz": -60
    },
    "id": "c3r6uVNDWcG5",
    "outputId": "ac5dc409-ab6d-4ab9-ed19-5fab6e646651"
   },
   "outputs": [
    {
     "name": "stdout",
     "output_type": "stream",
     "text": [
      "k should be of the form [2pi/L (-N/2 + 1), 2pi/L (-N/2), ..., -2pi/L, 0, 2pi/L, ..., 2pi/L (N/2-1), 2pi/L (N/2)]:\n",
      "[-3.07876080e-05 -3.01592895e-05 -2.95309709e-05 -2.89026524e-05\n",
      " -2.82743339e-05 -2.76460154e-05 -2.70176968e-05 -2.63893783e-05\n",
      " -2.57610598e-05 -2.51327412e-05 -2.45044227e-05 -2.38761042e-05\n",
      " -2.32477856e-05 -2.26194671e-05 -2.19911486e-05 -2.13628300e-05\n",
      " -2.07345115e-05 -2.01061930e-05 -1.94778745e-05 -1.88495559e-05\n",
      " -1.82212374e-05 -1.75929189e-05 -1.69646003e-05 -1.63362818e-05\n",
      " -1.57079633e-05 -1.50796447e-05 -1.44513262e-05 -1.38230077e-05\n",
      " -1.31946891e-05 -1.25663706e-05 -1.19380521e-05 -1.13097336e-05\n",
      " -1.06814150e-05 -1.00530965e-05 -9.42477796e-06 -8.79645943e-06\n",
      " -8.16814090e-06 -7.53982237e-06 -6.91150384e-06 -6.28318531e-06\n",
      " -5.65486678e-06 -5.02654825e-06 -4.39822972e-06 -3.76991118e-06\n",
      " -3.14159265e-06 -2.51327412e-06 -1.88495559e-06 -1.25663706e-06\n",
      " -6.28318531e-07  0.00000000e+00  6.28318531e-07  1.25663706e-06\n",
      "  1.88495559e-06  2.51327412e-06  3.14159265e-06  3.76991118e-06\n",
      "  4.39822972e-06  5.02654825e-06  5.65486678e-06  6.28318531e-06\n",
      "  6.91150384e-06  7.53982237e-06  8.16814090e-06  8.79645943e-06\n",
      "  9.42477796e-06  1.00530965e-05  1.06814150e-05  1.13097336e-05\n",
      "  1.19380521e-05  1.25663706e-05  1.31946891e-05  1.38230077e-05\n",
      "  1.44513262e-05  1.50796447e-05  1.57079633e-05  1.63362818e-05\n",
      "  1.69646003e-05  1.75929189e-05  1.82212374e-05  1.88495559e-05\n",
      "  1.94778745e-05  2.01061930e-05  2.07345115e-05  2.13628300e-05\n",
      "  2.19911486e-05  2.26194671e-05  2.32477856e-05  2.38761042e-05\n",
      "  2.45044227e-05  2.51327412e-05  2.57610598e-05  2.63893783e-05\n",
      "  2.70176968e-05  2.76460154e-05  2.82743339e-05  2.89026524e-05\n",
      "  2.95309709e-05  3.01592895e-05  3.07876080e-05  3.14159265e-05]\n"
     ]
    }
   ],
   "source": [
    "# Set the mass, H0 a dn the variance Var to 1.\n",
    "\n",
    "# Define k as reported in the paragraph above.\n",
    "\n",
    "k = np.array(2 * np.pi / L * n1D) # NB: need (N+1)/2 because upper extreme not included in arange\n",
    "kSquared = k**2\n",
    "\n",
    "# Print k.\n",
    "\n",
    "np.set_printoptions(threshold=np.inf)\n",
    "print(\"k should be of the form [2pi/L (-N/2 + 1), 2pi/L (-N/2), ..., -2pi/L, 0, 2pi/L, ..., 2pi/L (N/2-1), 2pi/L (N/2)]:\")\n",
    "print(k) # It should give -N/2+1, -N/2+2, ..., -1, 0, 1, ..., N/2-1, N/2\n",
    "np.set_printoptions(threshold=1000)\n",
    "\n",
    "# Define the energy of the mode k.\n",
    "omega = np.sqrt(k**2 + m**2)"
   ]
  },
  {
   "cell_type": "markdown",
   "metadata": {
    "id": "hVC6ghZCXSIL"
   },
   "source": [
    "Generate the random phases for the left and right modes, taken from a flat distribution in (0, 2pi):"
   ]
  },
  {
   "cell_type": "code",
   "execution_count": null,
   "metadata": {
    "id": "8a9AoW_qxc1n"
   },
   "outputs": [],
   "source": [
    "# Generate a left and right phases, with angles taken from a flat distribution in [0, 2pi).\n",
    "\n",
    "ThetaL = np.random.uniform(low = 0.0, high = 2. * np.pi, size = N)\n",
    "ThetaR = np.random.uniform(low = 0.0, high = 2. * np.pi, size = N)\n",
    "\n",
    "PhaseL = np.exp(ThetaL * 1j)\n",
    "PhaseR = np.exp(ThetaR * 1j)"
   ]
  },
  {
   "cell_type": "markdown",
   "metadata": {
    "id": "hAZP9_rUXsB6"
   },
   "source": [
    "Generate the amplitude of the fluctuation both for the left and right modes, using a Raileigh distribution with variance Var (recall that in the 1D case we do not pay attention to the size of the fluctuations)."
   ]
  },
  {
   "cell_type": "code",
   "execution_count": null,
   "metadata": {
    "id": "OlDZPOrLxpZF"
   },
   "outputs": [],
   "source": [
    "# Generate scalar field fluctuations from a Raileigh distribution with variance Var.\n",
    "\n",
    "DeltaPhiL = np.random.rayleigh(scale = Var**0.5, size = N)\n",
    "DeltaPhiR = np.random.rayleigh(scale = Var**0.5, size = N)"
   ]
  },
  {
   "cell_type": "markdown",
   "metadata": {
    "id": "Mn9r_GGDX8OK"
   },
   "source": [
    "Define the unconstrained field and field derivatives as in Eq. 437-438 of 2006.15122. Note that if we compute the inverse Fourier transform of this field would not get a real field."
   ]
  },
  {
   "cell_type": "code",
   "execution_count": null,
   "metadata": {
    "id": "qPwqXMYuP0Rc"
   },
   "outputs": [],
   "source": [
    "# Define the unconstrained field and field derivative.\n",
    "\n",
    "DeltaPhiUNC = 1./np.sqrt(2) * (np.abs(DeltaPhiL) * PhaseL + np.abs(DeltaPhiR) * PhaseR)\n",
    "DeltaPhiPrimeUNC = 1j*omega/np.sqrt(2) * (np.abs(DeltaPhiL) * PhaseL - np.abs(DeltaPhiR) * PhaseR) - H0*DeltaPhiUNC"
   ]
  },
  {
   "cell_type": "markdown",
   "metadata": {
    "id": "MgfkgHCGYrhj"
   },
   "source": [
    "Build the constrained field and field derivatives, recalling that:\n",
    "1. In Python the Fourier components of $\\phi$ are arranged in an array as follows: $[\\tilde\\phi(0), \\tilde\\phi(1), \\tilde\\phi(2), ..., \\tilde\\phi(N/2), \\tilde\\phi(-N/2+1), \\tilde\\phi(-N/2+2), ..., \\tilde\\phi(-1)]$.\n",
    "2. We need to impose that $\\tilde\\phi(-\\tilde{n}) = \\tilde\\phi^*(\\tilde{n})$."
   ]
  },
  {
   "cell_type": "code",
   "execution_count": null,
   "metadata": {
    "colab": {
     "base_uri": "https://localhost:8080/"
    },
    "executionInfo": {
     "elapsed": 284,
     "status": "ok",
     "timestamp": 1638458910390,
     "user": {
      "displayName": "Francesco Muia",
      "photoUrl": "https://lh3.googleusercontent.com/a/default-user=s64",
      "userId": "17686503555571486221"
     },
     "user_tz": -60
    },
    "id": "iJMQgTiPQKPA",
    "outputId": "c9d6fd01-fda0-4bbc-efae-102f39428bd5"
   },
   "outputs": [
    {
     "name": "stdout",
     "output_type": "stream",
     "text": [
      "Check that the constrained field satisfies the required symmetry:\n",
      "[-1.51246082e-05+0.00000000e+00j  1.35756779e-04-7.28207415e-05j\n",
      "  1.71832242e-05-3.43549408e-05j -1.57483878e-04+4.69253745e-05j\n",
      "  7.63713348e-05-3.23977854e-05j  7.64499448e-05+7.90631849e-05j\n",
      " -4.88570180e-05+1.17366177e-05j  3.57554865e-05+1.53528072e-05j\n",
      "  8.24212641e-07-1.24456840e-04j  1.27138950e-05+4.40616096e-05j\n",
      " -1.88582900e-05-4.42358283e-05j -6.21938778e-05+6.09624668e-05j\n",
      " -2.00795985e-05+3.08853777e-05j  2.10429431e-05-9.41623937e-05j\n",
      "  8.66246578e-05+2.99837732e-05j -8.46281516e-05-3.76784493e-05j\n",
      "  1.17710288e-04-3.98060237e-05j -7.80932708e-05-5.66256521e-05j\n",
      "  7.13637562e-05+8.53559098e-06j  2.14131380e-05+2.94109289e-05j\n",
      "  1.67733033e-05-1.28621658e-05j -8.98190896e-06-7.17825183e-05j\n",
      "  5.96552886e-06+5.35656457e-06j -1.53394573e-04+4.13999848e-05j\n",
      "  4.01124879e-05+6.57807437e-05j -1.31392068e-05+5.67913860e-05j\n",
      "  2.30495848e-06-4.05971928e-05j -8.71629942e-05+8.71920556e-05j\n",
      "  3.63541875e-05+4.11111542e-05j -3.59466675e-05+5.08976445e-05j\n",
      "  9.29024322e-05+1.08589831e-05j  3.59386414e-05-3.64567824e-05j\n",
      " -5.61422673e-05+2.53887945e-05j -5.21956223e-05-5.39367748e-05j\n",
      " -1.71442922e-05-4.00580310e-05j  1.03371525e-04-6.60523412e-05j\n",
      " -7.45285056e-05-1.01692423e-04j  3.52696503e-05+1.89373330e-04j\n",
      "  6.87668351e-05+1.18177405e-04j  1.15501395e-04+1.56495484e-05j\n",
      " -4.33029954e-05+2.49340940e-05j -1.97567145e-05-1.14678475e-04j\n",
      "  5.04416968e-05+2.03083009e-05j  5.59340049e-06+5.66123000e-05j\n",
      "  5.02308088e-05-7.49929244e-05j  3.23871103e-05+2.54772706e-05j\n",
      "  1.66533865e-05+9.88531839e-05j -8.19244645e-05-4.47146309e-05j\n",
      " -2.79510621e-05+6.76538546e-05j  3.41779367e-05-1.49119919e-05j\n",
      " -7.14963089e-05+0.00000000e+00j  3.41779367e-05+1.49119919e-05j\n",
      " -2.79510621e-05-6.76538546e-05j -8.19244645e-05+4.47146309e-05j\n",
      "  1.66533865e-05-9.88531839e-05j  3.23871103e-05-2.54772706e-05j\n",
      "  5.02308088e-05+7.49929244e-05j  5.59340049e-06-5.66123000e-05j\n",
      "  5.04416968e-05-2.03083009e-05j -1.97567145e-05+1.14678475e-04j\n",
      " -4.33029954e-05-2.49340940e-05j  1.15501395e-04-1.56495484e-05j\n",
      "  6.87668351e-05-1.18177405e-04j  3.52696503e-05-1.89373330e-04j\n",
      " -7.45285056e-05+1.01692423e-04j  1.03371525e-04+6.60523412e-05j\n",
      " -1.71442922e-05+4.00580310e-05j -5.21956223e-05+5.39367748e-05j\n",
      " -5.61422673e-05-2.53887945e-05j  3.59386414e-05+3.64567824e-05j\n",
      "  9.29024322e-05-1.08589831e-05j -3.59466675e-05-5.08976445e-05j\n",
      "  3.63541875e-05-4.11111542e-05j -8.71629942e-05-8.71920556e-05j\n",
      "  2.30495848e-06+4.05971928e-05j -1.31392068e-05-5.67913860e-05j\n",
      "  4.01124879e-05-6.57807437e-05j -1.53394573e-04-4.13999848e-05j\n",
      "  5.96552886e-06-5.35656457e-06j -8.98190896e-06+7.17825183e-05j\n",
      "  1.67733033e-05+1.28621658e-05j  2.14131380e-05-2.94109289e-05j\n",
      "  7.13637562e-05-8.53559098e-06j -7.80932708e-05+5.66256521e-05j\n",
      "  1.17710288e-04+3.98060237e-05j -8.46281516e-05+3.76784493e-05j\n",
      "  8.66246578e-05-2.99837732e-05j  2.10429431e-05+9.41623937e-05j\n",
      " -2.00795985e-05-3.08853777e-05j -6.21938778e-05-6.09624668e-05j\n",
      " -1.88582900e-05+4.42358283e-05j  1.27138950e-05-4.40616096e-05j\n",
      "  8.24212641e-07+1.24456840e-04j  3.57554865e-05-1.53528072e-05j\n",
      " -4.88570180e-05-1.17366177e-05j  7.64499448e-05-7.90631849e-05j\n",
      "  7.63713348e-05+3.23977854e-05j -1.57483878e-04-4.69253745e-05j\n",
      "  1.71832242e-05+3.43549408e-05j  1.35756779e-04+7.28207415e-05j]\n"
     ]
    }
   ],
   "source": [
    "# Build the constrained field and field derivative fluctuations.\n",
    "\n",
    "DeltaPhi0Mode = 1./2.*(DeltaPhiUNC[int(N/2-1)]+np.conjugate(DeltaPhiUNC[int(N/2-1)]))\n",
    "DeltaPhiK = np.concatenate((DeltaPhiUNC[int(N/2):],DeltaPhiUNC[0:int(N/2-1)]))\n",
    "DeltaPhiKConstrained = 1./2.*(DeltaPhiK + np.flip(np.conjugate(DeltaPhiK)))\n",
    "DeltaPhi = np.concatenate((DeltaPhi0Mode.reshape(1,),DeltaPhiKConstrained))\n",
    "\n",
    "DeltaPhiPrime0Mode = 1./2.*(DeltaPhiPrimeUNC[int(N/2-1)]+np.conjugate(DeltaPhiPrimeUNC[int(N/2-1)]))\n",
    "DeltaPhiPrimeK = np.concatenate((DeltaPhiPrimeUNC[int(N/2):],DeltaPhiPrimeUNC[0:int(N/2-1)]))\n",
    "DeltaPhiPrimeKConstrained = 1./2.*(DeltaPhiPrimeK + np.flip(np.conjugate(DeltaPhiPrimeK)))\n",
    "DeltaPhiPrime = np.concatenate((DeltaPhiPrime0Mode.reshape(1,),DeltaPhiPrimeKConstrained))\n",
    "\n",
    "np.set_printoptions(threshold=np.inf)\n",
    "print(\"Check that the constrained field satisfies the required symmetry:\")\n",
    "print(DeltaPhi)\n",
    "np.set_printoptions(threshold=1000)"
   ]
  },
  {
   "cell_type": "markdown",
   "metadata": {
    "id": "YggOWhAgZm8Z"
   },
   "source": [
    "Now we can finally compute the inverse Fourier transform, that should give a real result."
   ]
  },
  {
   "cell_type": "code",
   "execution_count": null,
   "metadata": {
    "colab": {
     "base_uri": "https://localhost:8080/"
    },
    "executionInfo": {
     "elapsed": 315,
     "status": "ok",
     "timestamp": 1638458923892,
     "user": {
      "displayName": "Francesco Muia",
      "photoUrl": "https://lh3.googleusercontent.com/a/default-user=s64",
      "userId": "17686503555571486221"
     },
     "user_tz": -60
    },
    "id": "2bVm2lcnSq5f",
    "outputId": "e83a1c5d-88f3-40d1-cbc8-50ec21dca6ec"
   },
   "outputs": [
    {
     "name": "stdout",
     "output_type": "stream",
     "text": [
      "Check that the inverse Fourier transform gives a real field:\n",
      "[ 4.61758257e-06+2.71050543e-22j -2.60063061e-06-6.09863722e-22j\n",
      "  9.15233537e-06+2.71050543e-22j  5.68989988e-06+0.00000000e+00j\n",
      " -5.91107421e-06-1.35525272e-22j -1.35863327e-06-3.72694497e-22j\n",
      "  2.27979976e-06+5.42101086e-22j  1.22781526e-05+2.71050543e-22j\n",
      " -5.26820043e-06+1.35525272e-22j -1.13593153e-05-5.42101086e-22j\n",
      "  1.04220853e-05-1.08420217e-21j -3.89783764e-06-1.35525272e-22j\n",
      " -5.33496274e-07+5.42101086e-22j  1.03225437e-05-2.71050543e-22j\n",
      "  2.05718405e-06+9.82558219e-22j  1.46406662e-05-1.08420217e-21j\n",
      "  1.69723131e-05-1.08420217e-21j -3.44086047e-07-4.06575815e-22j\n",
      "  5.81745702e-06+0.00000000e+00j -8.43273852e-06-6.77626358e-23j\n",
      "  1.69382085e-05-2.19284496e-22j  1.12312646e-05-1.12697324e-22j\n",
      " -1.74305551e-05-2.19284496e-22j  1.28856455e-05+1.78124629e-22j\n",
      "  8.86032808e-06-1.82775651e-22j  3.81371056e-07+6.25369138e-23j\n",
      "  1.02079864e-05-2.26341045e-22j -8.41065336e-06+9.02371715e-22j\n",
      " -4.02288472e-07-7.23527340e-22j  4.82553845e-06+1.07584704e-21j\n",
      " -9.29879356e-06-1.48788371e-21j  2.97335721e-08-4.40178392e-22j\n",
      "  6.80761811e-06+5.39363011e-22j -5.91663934e-06-2.96284275e-22j\n",
      " -9.89098391e-06-6.88373542e-22j -1.05597618e-05+4.99170898e-22j\n",
      " -1.52611422e-05+1.19218555e-21j  8.60410743e-06-1.97500940e-22j\n",
      " -1.94381851e-05+0.00000000e+00j  3.56206617e-06+1.26079920e-21j\n",
      " -6.81906424e-07+8.37592242e-23j -2.76570257e-06+4.17629185e-22j\n",
      " -2.21077231e-06+8.37592242e-23j  1.78835833e-05+2.88211705e-22j\n",
      " -7.70563153e-06+9.57225703e-22j -4.93318549e-06+2.71507645e-22j\n",
      " -5.04839007e-06-2.10698458e-21j -1.46424578e-05-2.03689192e-22j\n",
      " -1.37729437e-05+7.54229577e-22j  4.10445147e-06-1.19865599e-21j\n",
      "  1.13987619e-05+1.58963650e-21j  8.11308356e-06+7.54103211e-22j\n",
      " -8.48443735e-06-7.46706331e-23j -9.19182100e-06-4.02398248e-22j\n",
      "  1.68105946e-05-5.15404085e-22j  7.68209741e-06+6.80208236e-22j\n",
      "  5.66495013e-06-1.56532383e-21j  7.91074991e-06+3.51556411e-22j\n",
      " -4.94942156e-06+0.00000000e+00j -3.88144610e-06-5.78017638e-22j\n",
      " -1.45663119e-05+8.37592242e-23j -1.15517773e-05+4.17629185e-22j\n",
      "  1.30562522e-05+8.37592242e-23j -4.83426694e-06-2.88211705e-22j\n",
      "  2.57148508e-06-1.34402865e-21j -1.43977286e-05-5.01845511e-22j\n",
      " -1.86959904e-05+1.22984660e-21j -1.69358165e-06-8.40967239e-22j\n",
      " -1.43569704e-05+2.38660807e-22j -3.07999448e-06+8.63619093e-22j\n",
      " -1.61889457e-05+1.64639466e-22j  5.32168013e-06-5.34818715e-22j\n",
      " -7.63293671e-06-1.96379910e-22j -3.99248895e-06+2.34879800e-22j\n",
      " -2.96700461e-06+1.34994125e-21j -7.69292431e-06+1.07406773e-21j\n",
      "  4.31650883e-06+8.95250034e-22j  9.05299032e-06+6.09340796e-22j\n",
      "  1.25435869e-05+0.00000000e+00j  9.35021061e-07+6.87659885e-22j\n",
      "  5.55694858e-06-2.19284496e-22j  2.07823290e-06-1.12697324e-22j\n",
      " -6.02780127e-06-2.19284496e-22j -7.87847875e-07-1.78124629e-22j\n",
      "  5.18606839e-06+7.05103866e-22j -1.34368853e-05+5.40495449e-22j\n",
      "  9.57247171e-06+5.61377942e-22j -1.06992611e-06-1.28765827e-22j\n",
      " -4.68527017e-06-4.04888316e-22j  1.29700622e-05-1.98709056e-22j\n",
      " -7.35683096e-06+8.17809921e-22j  1.57940388e-06+3.56419168e-22j\n",
      " -1.00049450e-06-8.10413554e-22j -2.17833254e-06+7.34853266e-22j\n",
      "  2.78256423e-06-1.12872184e-21j  1.51973874e-05-1.16924469e-21j\n",
      " -5.45373990e-06+5.62090417e-22j  1.32314089e-06-3.56820452e-22j\n",
      " -1.68303081e-06+0.00000000e+00j  2.59363965e-06-1.30267882e-21j]\n",
      "In particular the maximum imaginary component of field and field derivative are 0.00000000000000000000, 0.00000000000000000000 respectively.\n"
     ]
    }
   ],
   "source": [
    "# Compute the inverse Fourier transform, that should give a real result.\n",
    "\n",
    "DeltaPhiReal = np.fft.ifft(DeltaPhi)\n",
    "DeltaPhiPrimeReal = np.fft.ifft(DeltaPhiPrime)\n",
    "\n",
    "ImPhi=np.max(np.imag(DeltaPhiReal))\n",
    "ImPhiPrime=np.max(np.imag(DeltaPhiPrimeReal))\n",
    "\n",
    "np.set_printoptions(threshold=np.inf)\n",
    "print(\"Check that the inverse Fourier transform gives a real field:\")\n",
    "print(DeltaPhiReal)\n",
    "print(\"In particular the maximum imaginary component of field and field derivative are %.20f, %.20f respectively.\" %(ImPhi, ImPhiPrime))\n",
    "np.set_printoptions(threshold=1000)"
   ]
  },
  {
   "cell_type": "code",
   "execution_count": null,
   "metadata": {
    "colab": {
     "base_uri": "https://localhost:8080/"
    },
    "executionInfo": {
     "elapsed": 241,
     "status": "ok",
     "timestamp": 1638458932478,
     "user": {
      "displayName": "Francesco Muia",
      "photoUrl": "https://lh3.googleusercontent.com/a/default-user=s64",
      "userId": "17686503555571486221"
     },
     "user_tz": -60
    },
    "id": "alQJGYohr0Hs",
    "outputId": "71d0312d-0b39-4be6-ae96-06cfc4854552"
   },
   "outputs": [
    {
     "name": "stdout",
     "output_type": "stream",
     "text": [
      "     x     field\n",
      "0  0.0  0.000005\n",
      "1  1.0 -0.000003\n",
      "2  2.0  0.000009\n",
      "3  3.0  0.000006\n",
      "4  4.0 -0.000006\n",
      "     x     field\n",
      "0  0.0 -0.000005\n",
      "1  1.0  0.000003\n",
      "2  2.0 -0.000009\n",
      "3  3.0 -0.000006\n",
      "4  4.0  0.000006\n"
     ]
    }
   ],
   "source": [
    "ndim = 1\n",
    "Coords = (np.indices((N,)*ndim)).reshape(ndim, -1).T\n",
    "ReshapedFR = DeltaPhiReal.reshape(N,1)\n",
    "FR = np.concatenate((np.real(Coords),np.real(ReshapedFR)),axis=1)\n",
    "FRDF = pd.DataFrame(FR, columns=('x','field'))\n",
    "print(FRDF.head())\n",
    "\n",
    "ReshapedDFR = DeltaPhiPrimeReal.reshape(N,1)\n",
    "DFR = np.concatenate((np.real(Coords),np.real(ReshapedDFR)),axis=1)\n",
    "DFRDF = pd.DataFrame(DFR, columns=('x','field'))\n",
    "print(DFRDF.head())"
   ]
  },
  {
   "cell_type": "code",
   "execution_count": null,
   "metadata": {
    "id": "sgHXA3QBvOzY"
   },
   "outputs": [],
   "source": [
    "FRDF.to_csv('FieldRealization.csv', header=None, index=None)\n",
    "DFRDF.to_csv('DerivativeFieldRealization.csv', header=None, index=None)"
   ]
  },
  {
   "cell_type": "markdown",
   "metadata": {
    "id": "8iJ_Cp316xwv"
   },
   "source": [
    "## 2D case"
   ]
  },
  {
   "cell_type": "markdown",
   "metadata": {
    "id": "s1bvMP9sNNJn"
   },
   "source": [
    "In 2D the same equations as in the 1D section apply, except that $n$ and $\\tilde{n}$ become two component vectors $\\vec{n} = (n_1, n_2)$ and $\\tilde{\\vec{n}} = (\\tilde{\\vec{n}}_1, \\tilde{\\vec{n}_2})$, so that we can define a lattice both in real and in Fourier space.\n",
    "\n",
    "The field $\\phi$ and the Fourier transform of the field $\\tilde\\phi$ can be represented as matrices with one value for each point of the grid.\n",
    "\n",
    "Schematically, the Fourier transform takes the form\n",
    "\n",
    "$$\n",
    "\\begin{pmatrix}\n",
    "\\tilde{\\phi}_{0,0} & \\tilde{\\phi}_{0,1} & \\tilde{\\phi}_{0,2} & \\dots &\\tilde{\\phi}_{0,N-1} \\\\\n",
    "\\tilde{\\phi}_{1,0} & \\tilde{\\phi}_{1,1} & \\tilde{\\phi}_{1,2} & \\dots &\\tilde{\\phi}_{1,N} \\\\\n",
    "\\dots & \\dots & \\dots & \\dots & \\dots \\\\\n",
    "\\tilde{\\phi}_{N-1,0} & \\tilde{\\phi}_{N-1,1} & \\dots & \\dots & \\tilde\\phi_{N-1,N-1}\n",
    "\\end{pmatrix}\n",
    "$$\n",
    "\n",
    "In order to get a real field in real space, we need to impose a few conditions on this matrix:\n",
    "\n",
    "$$\n",
    "\\tilde{\\phi}_{0, a} = \\tilde\\phi_{0,N-a}^* \\,, \\\\\n",
    "\\tilde{\\phi}_{a, 0} = \\tilde\\phi^*_{N-a, 0} \\,, \\\\\n",
    "\\tilde{\\phi}_{a, b} = \\tilde{\\phi}^*_{N-a, N-b} \\,,\n",
    "$$\n",
    "\n",
    "as we can see more clearly with the following example. In fact, let us define a real array:"
   ]
  },
  {
   "cell_type": "code",
   "execution_count": null,
   "metadata": {
    "id": "nvZVfxwH3VCC"
   },
   "outputs": [],
   "source": [
    "a = np.random.rand(4,4)"
   ]
  },
  {
   "cell_type": "markdown",
   "metadata": {
    "id": "xkbzXgNjETr7"
   },
   "source": [
    "Compute the 2D discrete Fourier transform of a:"
   ]
  },
  {
   "cell_type": "code",
   "execution_count": null,
   "metadata": {
    "colab": {
     "base_uri": "https://localhost:8080/"
    },
    "executionInfo": {
     "elapsed": 298,
     "status": "ok",
     "timestamp": 1638312954453,
     "user": {
      "displayName": "Francesco Muia",
      "photoUrl": "https://lh3.googleusercontent.com/a/default-user=s64",
      "userId": "17686503555571486221"
     },
     "user_tz": -60
    },
    "id": "dzJb8clw3lZE",
    "outputId": "8d039e20-e9b0-4772-b6a1-a935669e9c01"
   },
   "outputs": [
    {
     "data": {
      "text/plain": [
       "array([[ 6.42856665+0.j        , -0.26839899-0.57080028j,\n",
       "         0.28900257+0.j        , -0.26839899+0.57080028j],\n",
       "       [-2.11638823+0.5994741j , -1.05958198+0.01643976j,\n",
       "         1.13982717-0.54310531j, -1.21419547+0.36647415j],\n",
       "       [ 1.07204699+0.j        ,  0.41546865+0.59121427j,\n",
       "        -0.70670158+0.j        ,  0.41546865-0.59121427j],\n",
       "       [-2.11638823-0.5994741j , -1.21419547-0.36647415j,\n",
       "         1.13982717+0.54310531j, -1.05958198-0.01643976j]])"
      ]
     },
     "execution_count": 9,
     "metadata": {},
     "output_type": "execute_result"
    }
   ],
   "source": [
    "np.fft.fft2(a)"
   ]
  },
  {
   "cell_type": "markdown",
   "metadata": {
    "id": "8uxiBhUIJCx-"
   },
   "source": [
    "where we can clearly see all the symmetries listed above. Then we proceed with the building of an object that, if inversely Fourier transformed, gives a real scalar."
   ]
  },
  {
   "cell_type": "code",
   "execution_count": null,
   "metadata": {
    "id": "c3r76Z-LPTKu"
   },
   "outputs": [],
   "source": [
    "# Define the number of points on the grid, variance, mass\n",
    "\n",
    "N = 6\n",
    "Var = 1"
   ]
  },
  {
   "cell_type": "code",
   "execution_count": null,
   "metadata": {
    "id": "vB6NMCN7NnSN"
   },
   "outputs": [],
   "source": [
    "# Generate 00-component of Phi\n",
    "\n",
    "Phi00L = np.random.rayleigh(scale = Var**0.5, size = 1)\n",
    "Phi00R = np.random.rayleigh(scale = Var**0.5, size = 1)\n",
    "\n",
    "Phi00 = 1./np.sqrt(2.)*(np.abs(Phi00L) + np.abs(Phi00R))"
   ]
  },
  {
   "cell_type": "code",
   "execution_count": null,
   "metadata": {
    "id": "PaIGT3RfOKlF"
   },
   "outputs": [],
   "source": [
    "# Generate 0a-components of Phi\n",
    "\n",
    "Phi0aL = np.random.rayleigh(scale = Var**0.5, size = N-1)\n",
    "Phi0aR = np.random.rayleigh(scale = Var**0.5, size = N-1)\n",
    "Theta0aL = np.random.uniform(low = 0.0, high = 2. * np.pi, size = N-1)\n",
    "Theta0aR = np.random.uniform(low = 0.0, high = 2. * np.pi, size = N-1)\n",
    "Phase0aL = np.exp(1j*Theta0aL)\n",
    "Phase0aR = np.exp(1j*Theta0aR)\n",
    "\n",
    "Phi0aTemp = 1./np.sqrt(2.)*(np.abs(Phi0aL)*Phase0aL + np.abs(Phi0aR)*Phase0aR)\n",
    "\n",
    "Phi0a = 1./2. * (Phi0aTemp + np.conjugate(np.flip(Phi0aTemp)))"
   ]
  },
  {
   "cell_type": "code",
   "execution_count": null,
   "metadata": {
    "id": "TzLC7OaGPiR1"
   },
   "outputs": [],
   "source": [
    "# Generate a0-components of Phi\n",
    "\n",
    "Phia0L = np.random.rayleigh(scale = Var**0.5, size = N-1)\n",
    "Phia0R = np.random.rayleigh(scale = Var**0.5, size = N-1)\n",
    "Thetaa0L = np.random.uniform(low = 0.0, high = 2. * np.pi, size = N-1)\n",
    "Thetaa0R = np.random.uniform(low = 0.0, high = 2. * np.pi, size = N-1)\n",
    "Phasea0L = np.exp(1j*Thetaa0L)\n",
    "Phasea0R = np.exp(1j*Thetaa0R)\n",
    "\n",
    "Phia0Temp = 1./np.sqrt(2.)*(np.abs(Phia0L)*Phasea0L + np.abs(Phia0R)*Phasea0R)\n",
    "\n",
    "Phia0 = 1./2. * (Phia0Temp + np.conjugate(np.flip(Phia0Temp)))"
   ]
  },
  {
   "cell_type": "code",
   "execution_count": null,
   "metadata": {
    "id": "KPQtT9WLP2Er"
   },
   "outputs": [],
   "source": [
    "# Generate ab-components of Phi\n",
    "\n",
    "PhiabL = np.random.rayleigh(scale = Var**0.5, size = (N-1,N-1))\n",
    "PhiabR = np.random.rayleigh(scale = Var**0.5, size = (N-1,N-1))\n",
    "ThetaabL = np.random.uniform(low = 0.0, high = 2. * np.pi, size = (N-1,N-1))\n",
    "ThetaabR = np.random.uniform(low = 0.0, high = 2. * np.pi, size = (N-1,N-1))\n",
    "PhaseabL = np.exp(1j*ThetaabL)\n",
    "PhaseabR = np.exp(1j*ThetaabR)\n",
    "\n",
    "PhiabTemp = 1./np.sqrt(2.)*(np.abs(PhiabL)*PhaseabL + np.abs(PhiabR)*PhaseabR)\n",
    "\n",
    "PhiabTempTemp = np.flip(np.conjugate(np.flip(PhiabTemp, axis=1)), axis=0)\n",
    "\n",
    "Phiab = 1./2. * (PhiabTemp + PhiabTempTemp)"
   ]
  },
  {
   "cell_type": "code",
   "execution_count": null,
   "metadata": {
    "id": "xOwM-wJdQrUY"
   },
   "outputs": [],
   "source": [
    "# Finally put everything together\n",
    "\n",
    "Phi0i = np.concatenate((Phi00, Phi0a))\n",
    "Phiai = np.concatenate((Phia0.reshape(N-1,1), Phiab), axis = 1)\n",
    "Phiij = np.concatenate((Phi0i.reshape(1,N), Phiai))"
   ]
  },
  {
   "cell_type": "code",
   "execution_count": null,
   "metadata": {
    "colab": {
     "base_uri": "https://localhost:8080/"
    },
    "executionInfo": {
     "elapsed": 261,
     "status": "ok",
     "timestamp": 1638314517988,
     "user": {
      "displayName": "Francesco Muia",
      "photoUrl": "https://lh3.googleusercontent.com/a/default-user=s64",
      "userId": "17686503555571486221"
     },
     "user_tz": -60
    },
    "id": "5JSbf5SURAXH",
    "outputId": "9cd24587-165e-41a2-9b58-857f372d67aa"
   },
   "outputs": [
    {
     "data": {
      "text/plain": [
       "array([[ 1.94274504+0.j        ,  0.76628832-0.10586201j,\n",
       "         0.90945871-0.04508045j, -1.22475473+0.j        ,\n",
       "         0.90945871+0.04508045j,  0.76628832+0.10586201j],\n",
       "       [-0.48407955-0.66040154j,  0.55215734+0.41095867j,\n",
       "         0.17482299-1.03328279j, -0.16287288+0.59263666j,\n",
       "        -0.16291798-0.00374351j,  0.25428533-0.08793064j],\n",
       "       [ 0.69768832-0.73910913j,  1.41927129-0.38350793j,\n",
       "         0.44133939+1.15829939j, -0.10393361+1.47606765j,\n",
       "         0.83632637+0.88959465j, -0.26692188-0.5044812j ],\n",
       "       [ 0.56689845+0.j        ,  1.44118783-0.60447201j,\n",
       "        -0.21993727+0.24891955j, -0.40496901+0.j        ,\n",
       "        -0.21993727-0.24891955j,  1.44118783+0.60447201j],\n",
       "       [ 0.69768832+0.73910913j, -0.26692188+0.5044812j ,\n",
       "         0.83632637-0.88959465j, -0.10393361-1.47606765j,\n",
       "         0.44133939-1.15829939j,  1.41927129+0.38350793j],\n",
       "       [-0.48407955+0.66040154j,  0.25428533+0.08793064j,\n",
       "        -0.16291798+0.00374351j, -0.16287288-0.59263666j,\n",
       "         0.17482299+1.03328279j,  0.55215734-0.41095867j]])"
      ]
     },
     "execution_count": 16,
     "metadata": {},
     "output_type": "execute_result"
    }
   ],
   "source": [
    "# The final 2D box is given by\n",
    "\n",
    "Phiij"
   ]
  },
  {
   "cell_type": "code",
   "execution_count": null,
   "metadata": {
    "colab": {
     "base_uri": "https://localhost:8080/"
    },
    "executionInfo": {
     "elapsed": 248,
     "status": "ok",
     "timestamp": 1638314541343,
     "user": {
      "displayName": "Francesco Muia",
      "photoUrl": "https://lh3.googleusercontent.com/a/default-user=s64",
      "userId": "17686503555571486221"
     },
     "user_tz": -60
    },
    "id": "uUh-qa40Sw_Z",
    "outputId": "d2803af7-988a-49a9-f6c0-99d583c7c9ad"
   },
   "outputs": [
    {
     "data": {
      "text/plain": [
       "array([[ 0.3628957 +0.j,  0.23357831+0.j, -0.17166332+0.j,\n",
       "         0.02016238+0.j, -0.12677202+0.j,  0.17127579+0.j],\n",
       "       [-0.09218698+0.j,  0.12924087+0.j, -0.19423957+0.j,\n",
       "         0.19553471+0.j,  0.13278291+0.j,  0.26521844+0.j],\n",
       "       [ 0.22550742+0.j,  0.03316699+0.j,  0.14977672+0.j,\n",
       "         0.19629369+0.j, -0.18137254+0.j, -0.06342076+0.j],\n",
       "       [ 0.1991612 +0.j, -0.00642527+0.j,  0.06949069+0.j,\n",
       "         0.27471079+0.j, -0.01552895+0.j,  0.10182194+0.j],\n",
       "       [-0.03224354+0.j,  0.27780444+0.j, -0.0142537 +0.j,\n",
       "        -0.12450126+0.j,  0.00810522+0.j,  0.29048222+0.j],\n",
       "       [ 0.0151136 +0.j, -0.11973711+0.j,  0.01880919+0.j,\n",
       "         0.01343977+0.j,  0.00561314+0.j, -0.30489607+0.j]])"
      ]
     },
     "execution_count": 17,
     "metadata": {},
     "output_type": "execute_result"
    }
   ],
   "source": [
    "# Check that the scalar field is real.\n",
    "\n",
    "np.fft.ifft2(Phiij)"
   ]
  },
  {
   "cell_type": "markdown",
   "metadata": {
    "id": "bJjI9l-NT05_"
   },
   "source": [
    "## 3D case"
   ]
  },
  {
   "cell_type": "markdown",
   "metadata": {
    "id": "HaG1l_HhfsLg"
   },
   "source": [
    "We want to generate a box containing the quantum fluctuations of a real scalar field as explained in Sec. 7.1 of 2006.15122.\n",
    "\n",
    "The basic equations are Eq. 436-437, in which the amplitude of the left and right modes is taken from a Raileigh distribution with variance given in Eq. 436. The phases are randomly chosen using a flat distribution in (0, 2 \\pi).\n",
    "\n",
    "The results for \\tilde\\phi and \\phi in this section are dimensionless, hence for us they are expressed in units of Mp (in the notation of Figueroa et al., f = Mp)."
   ]
  },
  {
   "cell_type": "code",
   "execution_count": 2,
   "metadata": {
    "executionInfo": {
     "elapsed": 393,
     "status": "ok",
     "timestamp": 1639575900126,
     "user": {
      "displayName": "Francesco Muia",
      "photoUrl": "https://lh3.googleusercontent.com/a/default-user=s64",
      "userId": "17686503555571486221"
     },
     "user_tz": -60
    },
    "id": "BFxPLN1BTEI_"
   },
   "outputs": [],
   "source": [
    "# Define relevant parameters\n",
    "\n",
    "q = 10**5 # q = mp/m\n",
    "N = 100\n",
    "L = 100*q\n",
    "\n",
    "Var = (N**3)/(q**2)\n",
    "m = 1/q\n",
    "H = 1/q"
   ]
  },
  {
   "cell_type": "code",
   "execution_count": 3,
   "metadata": {
    "executionInfo": {
     "elapsed": 391,
     "status": "ok",
     "timestamp": 1639575902791,
     "user": {
      "displayName": "Francesco Muia",
      "photoUrl": "https://lh3.googleusercontent.com/a/default-user=s64",
      "userId": "17686503555571486221"
     },
     "user_tz": -60
    },
    "id": "KXM_faI6Syvx"
   },
   "outputs": [],
   "source": [
    "# Define the array of wavenumbers\n",
    "\n",
    "k1 = np.array(2 * np.pi / L * np.arange(0, (N+1)/2)) # NB: need (N+1)/2 because upper extreme not included in arange\n",
    "k2 = np.array(2 * np.pi / L * np.arange(-N/2+1, 0)) # NB: need -N/2+1 because point -N/2 needs to be excluded\n",
    "ktemp = np.asarray(np.concatenate((k1, k2), axis = None))\n",
    "\n",
    "a = np.meshgrid(ktemp,ktemp,ktemp)[0]\n",
    "b = np.meshgrid(ktemp,ktemp,ktemp)[1]\n",
    "c = np.meshgrid(ktemp,ktemp,ktemp)[2]\n",
    "\n",
    "k0 = np.concatenate((b.reshape(N,N,N,1), a.reshape(N,N,N,1), c.reshape(N,N,N,1)), axis=3)\n",
    "\n",
    "k0Squared = k0[:,:,:,0]**2 + k0[:,:,:,1]**2 + k0[:,:,:,2]**2\n",
    "\n",
    "omega = np.sqrt(k0Squared + m**2)"
   ]
  },
  {
   "cell_type": "code",
   "execution_count": 4,
   "metadata": {
    "executionInfo": {
     "elapsed": 4,
     "status": "ok",
     "timestamp": 1639575904199,
     "user": {
      "displayName": "Francesco Muia",
      "photoUrl": "https://lh3.googleusercontent.com/a/default-user=s64",
      "userId": "17686503555571486221"
     },
     "user_tz": -60
    },
    "id": "R8uOxqeRV5JQ"
   },
   "outputs": [],
   "source": [
    "# Generate 00-component of Phi and PhiPrime\n",
    "\n",
    "Phi_000_L = np.random.rayleigh(scale = Var**0.5, size = 1)\n",
    "Phi_000_R = np.random.rayleigh(scale = Var**0.5, size = 1)\n",
    "\n",
    "Phi_000 = 1./np.sqrt(2.)*(np.abs(Phi_000_L) + np.abs(Phi_000_R))\n",
    "\n",
    "PhiPrime_000 = omega[0,0,0]/np.sqrt(2.)*(np.abs(Phi_000_L) - np.abs(Phi_000_R)) - H * Phi_000"
   ]
  },
  {
   "cell_type": "code",
   "execution_count": 5,
   "metadata": {
    "executionInfo": {
     "elapsed": 3,
     "status": "ok",
     "timestamp": 1639575905690,
     "user": {
      "displayName": "Francesco Muia",
      "photoUrl": "https://lh3.googleusercontent.com/a/default-user=s64",
      "userId": "17686503555571486221"
     },
     "user_tz": -60
    },
    "id": "ReJFvy3DV6VK"
   },
   "outputs": [],
   "source": [
    "# Generate a00-components of Phi and PhiPrime\n",
    "\n",
    "Phi_a00_L = np.random.rayleigh(scale = Var**0.5, size = N-1)\n",
    "Phi_a00_R = np.random.rayleigh(scale = Var**0.5, size = N-1)\n",
    "Theta_a00_L = np.random.uniform(low = 0.0, high = 2. * np.pi, size = N-1)\n",
    "Theta_a00_R = np.random.uniform(low = 0.0, high = 2. * np.pi, size = N-1)\n",
    "Phase_a00_L = np.exp(1j*Theta_a00_L)\n",
    "Phase_a00_R = np.exp(1j*Theta_a00_R)\n",
    "\n",
    "Phi_a00_Temp = 1./np.sqrt(2.)*(np.abs(Phi_a00_L)*Phase_a00_L + np.abs(Phi_a00_R)*Phase_a00_R)\n",
    "Phi_a00 = 1./2. * (Phi_a00_Temp + np.conjugate(np.flip(Phi_a00_Temp)))\n",
    "\n",
    "PhiPrime_a00_Temp = omega[0:N-1,0,0]/np.sqrt(2.)*(np.abs(Phi_a00_L)*Phase_a00_L - np.abs(Phi_a00_R)*Phase_a00_R) - H * Phi_a00\n",
    "PhiPrime_a00 = 1./2. * (PhiPrime_a00_Temp + np.conjugate(np.flip(PhiPrime_a00_Temp)))"
   ]
  },
  {
   "cell_type": "code",
   "execution_count": 6,
   "metadata": {
    "executionInfo": {
     "elapsed": 4,
     "status": "ok",
     "timestamp": 1639575907074,
     "user": {
      "displayName": "Francesco Muia",
      "photoUrl": "https://lh3.googleusercontent.com/a/default-user=s64",
      "userId": "17686503555571486221"
     },
     "user_tz": -60
    },
    "id": "IuNBfWmlWLBI"
   },
   "outputs": [],
   "source": [
    "# Generate 0b0-components of Phi and PhiPrime\n",
    "\n",
    "Phi_0b0_L = np.random.rayleigh(scale = Var**0.5, size = N-1)\n",
    "Phi_0b0_R = np.random.rayleigh(scale = Var**0.5, size = N-1)\n",
    "Theta_0b0_L = np.random.uniform(low = 0.0, high = 2. * np.pi, size = N-1)\n",
    "Theta_0b0_R = np.random.uniform(low = 0.0, high = 2. * np.pi, size = N-1)\n",
    "Phase_0b0_L = np.exp(1j*Theta_0b0_L)\n",
    "Phase_0b0_R = np.exp(1j*Theta_0b0_R)\n",
    "\n",
    "Phi_0b0_Temp = 1./np.sqrt(2.)*(np.abs(Phi_0b0_L)*Phase_0b0_L + np.abs(Phi_0b0_R)*Phase_0b0_R)\n",
    "Phi_0b0 = 1./2. * (Phi_0b0_Temp + np.conjugate(np.flip(Phi_0b0_Temp)))\n",
    "\n",
    "PhiPrime_0b0_Temp = omega[0,0:N-1,0]/np.sqrt(2.)*(np.abs(Phi_0b0_L)*Phase_0b0_L - np.abs(Phi_0b0_R)*Phase_0b0_R) - H * Phi_0b0\n",
    "PhiPrime_0b0 = 1./2. * (PhiPrime_0b0_Temp + np.conjugate(np.flip(PhiPrime_0b0_Temp)))"
   ]
  },
  {
   "cell_type": "code",
   "execution_count": 7,
   "metadata": {
    "executionInfo": {
     "elapsed": 3,
     "status": "ok",
     "timestamp": 1639575908577,
     "user": {
      "displayName": "Francesco Muia",
      "photoUrl": "https://lh3.googleusercontent.com/a/default-user=s64",
      "userId": "17686503555571486221"
     },
     "user_tz": -60
    },
    "id": "1TSdTwFcWbct"
   },
   "outputs": [],
   "source": [
    "# Generate 00c-components of Phi and PhiPrime\n",
    "\n",
    "Phi_00c_L = np.random.rayleigh(scale = Var**0.5, size = N-1)\n",
    "Phi_00c_R = np.random.rayleigh(scale = Var**0.5, size = N-1)\n",
    "Theta_00c_L = np.random.uniform(low = 0.0, high = 2. * np.pi, size = N-1)\n",
    "Theta_00c_R = np.random.uniform(low = 0.0, high = 2. * np.pi, size = N-1)\n",
    "Phase_00c_L = np.exp(1j*Theta_00c_L)\n",
    "Phase_00c_R = np.exp(1j*Theta_00c_R)\n",
    "\n",
    "Phi_00c_Temp = 1./np.sqrt(2.)*(np.abs(Phi_00c_L)*Phase_00c_L + np.abs(Phi_00c_R)*Phase_00c_R)\n",
    "Phi_00c = 1./2. * (Phi_00c_Temp + np.conjugate(np.flip(Phi_00c_Temp)))\n",
    "\n",
    "PhiPrime_00c_Temp = omega[0,0,0:N-1]/np.sqrt(2.)*(np.abs(Phi_00c_L)*Phase_00c_L - np.abs(Phi_00c_R)*Phase_00c_R) - H * Phi_00c\n",
    "PhiPrime_00c = 1./2. * (PhiPrime_00c_Temp + np.conjugate(np.flip(PhiPrime_00c_Temp)))"
   ]
  },
  {
   "cell_type": "code",
   "execution_count": 8,
   "metadata": {
    "executionInfo": {
     "elapsed": 3,
     "status": "ok",
     "timestamp": 1639575909936,
     "user": {
      "displayName": "Francesco Muia",
      "photoUrl": "https://lh3.googleusercontent.com/a/default-user=s64",
      "userId": "17686503555571486221"
     },
     "user_tz": -60
    },
    "id": "wtlHfOWOUFvz"
   },
   "outputs": [],
   "source": [
    "# Generate 0bc-components of Phi\n",
    "\n",
    "Phi_0bc_L = np.random.rayleigh(scale = Var**0.5, size = (N-1,N-1))\n",
    "Phi_0bc_R = np.random.rayleigh(scale = Var**0.5, size = (N-1,N-1))\n",
    "Theta_0bc_L = np.random.uniform(low = 0.0, high = 2. * np.pi, size = (N-1,N-1))\n",
    "Theta_0bc_R = np.random.uniform(low = 0.0, high = 2. * np.pi, size = (N-1,N-1))\n",
    "Phase_0bc_L = np.exp(1j*Theta_0bc_L)\n",
    "Phase_0bc_R = np.exp(1j*Theta_0bc_R)\n",
    "\n",
    "Phi_0bc_Temp = 1./np.sqrt(2.)*(np.abs(Phi_0bc_L)*Phase_0bc_L + np.abs(Phi_0bc_R)*Phase_0bc_R)\n",
    "Phi_0bc_TempTemp = np.flip(np.conjugate(np.flip(Phi_0bc_Temp, axis=1)), axis=0)\n",
    "Phi_0bc = 1./2. * (Phi_0bc_Temp + Phi_0bc_TempTemp)\n",
    "\n",
    "PhiPrime_0bc_Temp = omega[0,0:N-1,0:N-1]/np.sqrt(2.)*(np.abs(Phi_0bc_L)*Phase_0bc_L - np.abs(Phi_0bc_R)*Phase_0bc_R) - H * Phi_0bc\n",
    "PhiPrime_0bc_TempTemp = np.flip(np.conjugate(np.flip(PhiPrime_0bc_Temp, axis=1)), axis=0)\n",
    "PhiPrime_0bc = 1./2. * (PhiPrime_0bc_Temp + PhiPrime_0bc_TempTemp)"
   ]
  },
  {
   "cell_type": "code",
   "execution_count": 9,
   "metadata": {
    "executionInfo": {
     "elapsed": 3,
     "status": "ok",
     "timestamp": 1639575911591,
     "user": {
      "displayName": "Francesco Muia",
      "photoUrl": "https://lh3.googleusercontent.com/a/default-user=s64",
      "userId": "17686503555571486221"
     },
     "user_tz": -60
    },
    "id": "C8oCmwSnUXA5"
   },
   "outputs": [],
   "source": [
    "# Generate a0c-components of Phi\n",
    "\n",
    "Phi_a0c_L = np.random.rayleigh(scale = Var**0.5, size = (N-1,N-1))\n",
    "Phi_a0c_R = np.random.rayleigh(scale = Var**0.5, size = (N-1,N-1))\n",
    "Theta_a0c_L = np.random.uniform(low = 0.0, high = 2. * np.pi, size = (N-1,N-1))\n",
    "Theta_a0c_R = np.random.uniform(low = 0.0, high = 2. * np.pi, size = (N-1,N-1))\n",
    "Phase_a0c_L = np.exp(1j*Theta_a0c_L)\n",
    "Phase_a0c_R = np.exp(1j*Theta_a0c_R)\n",
    "\n",
    "Phi_a0c_Temp = 1./np.sqrt(2.)*(np.abs(Phi_a0c_L)*Phase_a0c_L + np.abs(Phi_a0c_R)*Phase_a0c_R)\n",
    "Phi_a0c_TempTemp = np.flip(np.conjugate(np.flip(Phi_a0c_Temp, axis=1)), axis=0)\n",
    "Phi_a0c = 1./2. * (Phi_a0c_Temp + Phi_a0c_TempTemp)\n",
    "\n",
    "PhiPrime_a0c_Temp = omega[0:N-1,0,0:N-1]/np.sqrt(2.)*(np.abs(Phi_a0c_L)*Phase_a0c_L + np.abs(Phi_a0c_R)*Phase_a0c_R) - H * Phi_a0c\n",
    "PhiPrime_a0c_TempTemp = np.flip(np.conjugate(np.flip(PhiPrime_a0c_Temp, axis=1)), axis=0)\n",
    "PhiPrime_a0c = 1./2. * (PhiPrime_a0c_Temp + PhiPrime_a0c_TempTemp)"
   ]
  },
  {
   "cell_type": "code",
   "execution_count": 10,
   "metadata": {
    "executionInfo": {
     "elapsed": 3,
     "status": "ok",
     "timestamp": 1639575913208,
     "user": {
      "displayName": "Francesco Muia",
      "photoUrl": "https://lh3.googleusercontent.com/a/default-user=s64",
      "userId": "17686503555571486221"
     },
     "user_tz": -60
    },
    "id": "eWzW7n7iUyFY"
   },
   "outputs": [],
   "source": [
    "# Generate ab0-components of Phi\n",
    "\n",
    "Phi_ab0_L = np.random.rayleigh(scale = Var**0.5, size = (N-1,N-1))\n",
    "Phi_ab0_R = np.random.rayleigh(scale = Var**0.5, size = (N-1,N-1))\n",
    "Theta_ab0_L = np.random.uniform(low = 0.0, high = 2. * np.pi, size = (N-1,N-1))\n",
    "Theta_ab0_R = np.random.uniform(low = 0.0, high = 2. * np.pi, size = (N-1,N-1))\n",
    "Phase_ab0_L = np.exp(1j*Theta_ab0_L)\n",
    "Phase_ab0_R = np.exp(1j*Theta_ab0_R)\n",
    "\n",
    "Phi_ab0_Temp = 1./np.sqrt(2.)*(np.abs(Phi_ab0_L)*Phase_ab0_L + np.abs(Phi_ab0_R)*Phase_ab0_R)\n",
    "Phi_ab0_TempTemp = np.flip(np.conjugate(np.flip(Phi_ab0_Temp, axis=1)), axis=0)\n",
    "Phi_ab0 = 1./2. * (Phi_ab0_Temp + Phi_ab0_TempTemp)\n",
    "\n",
    "PhiPrime_ab0_Temp = omega[0:N-1,0:N-1,0]/np.sqrt(2.)*(np.abs(Phi_ab0_L)*Phase_ab0_L - np.abs(Phi_ab0_R)*Phase_ab0_R) - H * Phi_ab0\n",
    "PhiPrime_ab0_TempTemp = np.flip(np.conjugate(np.flip(PhiPrime_ab0_Temp, axis=1)), axis=0)\n",
    "PhiPrime_ab0 = 1./2. * (PhiPrime_ab0_Temp + PhiPrime_ab0_TempTemp)"
   ]
  },
  {
   "cell_type": "code",
   "execution_count": 11,
   "metadata": {
    "executionInfo": {
     "elapsed": 353,
     "status": "ok",
     "timestamp": 1639575915213,
     "user": {
      "displayName": "Francesco Muia",
      "photoUrl": "https://lh3.googleusercontent.com/a/default-user=s64",
      "userId": "17686503555571486221"
     },
     "user_tz": -60
    },
    "id": "SFnxvd9zVEGv"
   },
   "outputs": [],
   "source": [
    "# Generate abc-components of Phi\n",
    "\n",
    "Phi_abc_L = np.random.rayleigh(scale = Var**0.5, size = (N-1,N-1,N-1))\n",
    "Phi_abc_R = np.random.rayleigh(scale = Var**0.5, size = (N-1,N-1,N-1))\n",
    "Theta_abc_L = np.random.uniform(low = 0.0, high = 2. * np.pi, size = (N-1,N-1,N-1))\n",
    "Theta_abc_R = np.random.uniform(low = 0.0, high = 2. * np.pi, size = (N-1,N-1,N-1))\n",
    "Phase_abc_L = np.exp(1j*Theta_abc_L)\n",
    "Phase_abc_R = np.exp(1j*Theta_abc_R)\n",
    "\n",
    "Phi_abc_Temp = 1./np.sqrt(2.)*(np.abs(Phi_abc_L)*Phase_abc_L + np.abs(Phi_abc_R)*Phase_abc_R)\n",
    "Phi_abc_TempTemp = np.conjugate(np.flip(np.flip(np.flip(Phi_abc_Temp, axis=2), axis=1), axis=0))\n",
    "Phi_abc = 1./2. * (Phi_abc_Temp + Phi_abc_TempTemp)\n",
    "\n",
    "PhiPrime_abc_Temp = omega[0:N-1,0:N-1,0:N-1]/np.sqrt(2.)*(np.abs(Phi_abc_L)*Phase_abc_L + np.abs(Phi_abc_R)*Phase_abc_R) - H * Phi_abc\n",
    "PhiPrime_abc_TempTemp = np.conjugate(np.flip(np.flip(np.flip(PhiPrime_abc_Temp, axis=2), axis=1), axis=0))\n",
    "PhiPrime_abc = 1./2. * (PhiPrime_abc_Temp + PhiPrime_abc_TempTemp)"
   ]
  },
  {
   "cell_type": "code",
   "execution_count": 12,
   "metadata": {
    "executionInfo": {
     "elapsed": 3,
     "status": "ok",
     "timestamp": 1639575916392,
     "user": {
      "displayName": "Francesco Muia",
      "photoUrl": "https://lh3.googleusercontent.com/a/default-user=s64",
      "userId": "17686503555571486221"
     },
     "user_tz": -60
    },
    "id": "ETXGg1uNVkZc"
   },
   "outputs": [],
   "source": [
    "# Build top face of the cube.\n",
    "\n",
    "Phi_i00 = np.concatenate((Phi_000, Phi_a00))\n",
    "Phi_aj0 = np.concatenate((Phi_0b0.reshape(N-1, 1), Phi_ab0), axis=1)  # Add the column Phi0b0 to the left of Phiab0\n",
    "Phi_ij0 = np.concatenate((Phi_i00.reshape(1, N), Phi_aj0), axis=0)  # Add the row Phi_i00 at the top of Phi_aj0\n",
    "\n",
    "PhiPrime_i00 = np.concatenate((PhiPrime_000, PhiPrime_a00))\n",
    "PhiPrime_aj0 = np.concatenate((PhiPrime_0b0.reshape(N-1, 1), PhiPrime_ab0), axis=1)  # Add the column Phi0b0 to the left of Phiab0\n",
    "PhiPrime_ij0 = np.concatenate((PhiPrime_i00.reshape(1, N), PhiPrime_aj0), axis=0)  # Add the row Phi_i00 at the top of Phi_aj0\n",
    "\n",
    "# Build front face of the cube (except first row).\n",
    "\n",
    "Phi_i0c = np.concatenate((Phi_00c.reshape(1, N-1), Phi_a0c), axis=0)  # Add the row Phi00c at the top of Phia0c\n",
    "PhiPrime_i0c = np.concatenate((PhiPrime_00c.reshape(1, N-1), PhiPrime_a0c), axis=0)  # Add the row Phi00c at the top of Phia0c\n",
    "\n",
    "# Build the body of the cube\n",
    "\n",
    "Phi_ibc = np.concatenate((Phi_0bc.reshape(1,N-1,N-1), Phi_abc), axis = 0)  # Add Phiabc to the right face Phi0bc\n",
    "PhiPrime_ibc = np.concatenate((PhiPrime_0bc.reshape(1,N-1,N-1), PhiPrime_abc), axis = 0)  # Add Phiabc to the right face Phi0bc\n",
    "\n",
    "# Build the bottom part of the cube\n",
    "\n",
    "Phi_ijc = np.concatenate((Phi_i0c.reshape(N,1,N-1), Phi_ibc), axis = 1)\n",
    "PhiPrime_ijc = np.concatenate((PhiPrime_i0c.reshape(N,1,N-1), PhiPrime_ibc), axis = 1)\n",
    "\n",
    "# Build the entire cube\n",
    "\n",
    "Phi_ijk = np.concatenate((Phi_ij0.reshape(N, N, 1), Phi_ijc), axis=2)  # Add the row Phi00c at the top of Phia0c\n",
    "PhiPrime_ijk = np.concatenate((PhiPrime_ij0.reshape(N, N, 1), PhiPrime_ijc), axis=2)  # Add the row Phi00c at the top of Phia0c"
   ]
  },
  {
   "cell_type": "code",
   "execution_count": 13,
   "metadata": {
    "executionInfo": {
     "elapsed": 470,
     "status": "ok",
     "timestamp": 1639575918370,
     "user": {
      "displayName": "Francesco Muia",
      "photoUrl": "https://lh3.googleusercontent.com/a/default-user=s64",
      "userId": "17686503555571486221"
     },
     "user_tz": -60
    },
    "id": "LueTScWHHSZI"
   },
   "outputs": [],
   "source": [
    "# Compute inverse Fourier transform to go to real space. The result should be real.\n",
    "\n",
    "PhiReal = np.fft.ifftn(Phi_ijk)\n",
    "PhiPrimeReal = np.fft.ifftn(PhiPrime_ijk)"
   ]
  },
  {
   "cell_type": "code",
   "execution_count": 14,
   "metadata": {
    "colab": {
     "base_uri": "https://localhost:8080/"
    },
    "executionInfo": {
     "elapsed": 4,
     "status": "ok",
     "timestamp": 1639575919439,
     "user": {
      "displayName": "Francesco Muia",
      "photoUrl": "https://lh3.googleusercontent.com/a/default-user=s64",
      "userId": "17686503555571486221"
     },
     "user_tz": -60
    },
    "id": "UnbD827da5V7",
    "outputId": "408833fe-fbd0-4fa1-e425-ecb60d39de3e"
   },
   "outputs": [
    {
     "name": "stdout",
     "output_type": "stream",
     "text": [
      "1.8944579345060652e-21\n",
      "4.45530728746865e-26\n"
     ]
    }
   ],
   "source": [
    "# Compute variance of PhiReal and PhiPrimeReal\n",
    "\n",
    "print(np.std(np.imag(PhiReal)))\n",
    "print(np.std(np.imag(PhiPrimeReal)))"
   ]
  },
  {
   "cell_type": "code",
   "execution_count": 15,
   "metadata": {
    "colab": {
     "base_uri": "https://localhost:8080/"
    },
    "executionInfo": {
     "elapsed": 3,
     "status": "ok",
     "timestamp": 1639575922187,
     "user": {
      "displayName": "Francesco Muia",
      "photoUrl": "https://lh3.googleusercontent.com/a/default-user=s64",
      "userId": "17686503555571486221"
     },
     "user_tz": -60
    },
    "id": "XPVJ6yCiaWsF",
    "outputId": "4f4c8638-d5c0-4dba-a21b-6f417554dfc6"
   },
   "outputs": [
    {
     "name": "stdout",
     "output_type": "stream",
     "text": [
      "1.0005976075115701e-05\n",
      "2.3636140046754655e-10\n"
     ]
    }
   ],
   "source": [
    "# Compute variance of PhiReal and PhiPrimeReal\n",
    "\n",
    "print(np.std(PhiReal))\n",
    "print(np.std(PhiPrimeReal))"
   ]
  },
  {
   "cell_type": "code",
   "execution_count": 18,
   "metadata": {
    "executionInfo": {
     "elapsed": 343,
     "status": "ok",
     "timestamp": 1639576617322,
     "user": {
      "displayName": "Francesco Muia",
      "photoUrl": "https://lh3.googleusercontent.com/a/default-user=s64",
      "userId": "17686503555571486221"
     },
     "user_tz": -60
    },
    "id": "_IJKPTBWVzEq"
   },
   "outputs": [],
   "source": [
    "ndim = 3\n",
    "high = N\n",
    "low = 0\n",
    "Coords = (np.indices((high-low,)*ndim) + low).reshape(ndim, -1).T\n",
    "ReshapedFR = np.real(PhiReal).reshape(N**3,1)\n",
    "ReshapedFRDer = np.real(PhiPrimeReal).reshape(N**3,1)\n",
    "FR = np.concatenate((Coords,ReshapedFR),axis=1)\n",
    "FRDer = np.concatenate((Coords,ReshapedFRDer),axis=1)\n",
    "FRDF = pd.DataFrame(FR, columns=('x','y','z','field'))\n",
    "FRDFDer = pd.DataFrame(FRDer, columns=('x','y','z','field derivative'))\n",
    "#FRDFreal = FRDFreal_temp\n",
    "#FRDFreal_temp.head()"
   ]
  },
  {
   "cell_type": "code",
   "execution_count": 19,
   "metadata": {
    "colab": {
     "base_uri": "https://localhost:8080/"
    },
    "executionInfo": {
     "elapsed": 320,
     "status": "ok",
     "timestamp": 1639576619574,
     "user": {
      "displayName": "Francesco Muia",
      "photoUrl": "https://lh3.googleusercontent.com/a/default-user=s64",
      "userId": "17686503555571486221"
     },
     "user_tz": -60
    },
    "id": "PPzpqJYiWUxE",
    "outputId": "df011279-f150-4c8f-ed65-ddfebad2e400"
   },
   "outputs": [
    {
     "name": "stdout",
     "output_type": "stream",
     "text": [
      "     x    y    z         field\n",
      "0  0.0  0.0  0.0 -9.412711e-07\n",
      "1  0.0  0.0  1.0 -1.274862e-05\n",
      "2  0.0  0.0  2.0 -1.129158e-05\n",
      "3  0.0  0.0  3.0  5.620713e-07\n",
      "4  0.0  0.0  4.0  2.591732e-06\n",
      "     x    y    z  field derivative\n",
      "0  0.0  0.0  0.0      1.584689e-10\n",
      "1  0.0  0.0  1.0     -2.003077e-10\n",
      "2  0.0  0.0  2.0     -7.839084e-11\n",
      "3  0.0  0.0  3.0      2.004976e-10\n",
      "4  0.0  0.0  4.0      5.403886e-11\n"
     ]
    }
   ],
   "source": [
    "print(FRDF.head())\n",
    "print(FRDFDer.head())"
   ]
  },
  {
   "cell_type": "code",
   "execution_count": 20,
   "metadata": {
    "executionInfo": {
     "elapsed": 5515,
     "status": "ok",
     "timestamp": 1639576537088,
     "user": {
      "displayName": "Francesco Muia",
      "photoUrl": "https://lh3.googleusercontent.com/a/default-user=s64",
      "userId": "17686503555571486221"
     },
     "user_tz": -60
    },
    "id": "6MZTV4AFWg-9"
   },
   "outputs": [],
   "source": [
    "FRDF.to_csv('FieldRealization3D.csv', header=None, index=None)"
   ]
  },
  {
   "cell_type": "code",
   "execution_count": 21,
   "metadata": {
    "executionInfo": {
     "elapsed": 5444,
     "status": "ok",
     "timestamp": 1639576653346,
     "user": {
      "displayName": "Francesco Muia",
      "photoUrl": "https://lh3.googleusercontent.com/a/default-user=s64",
      "userId": "17686503555571486221"
     },
     "user_tz": -60
    },
    "id": "6Ovl1wkxYCGr"
   },
   "outputs": [],
   "source": [
    "FRDFDer.to_csv('FieldDerivativeRealization3D.csv', header=None, index=None)"
   ]
  },
  {
   "cell_type": "code",
   "execution_count": null,
   "metadata": {
    "id": "K2-cy4jiqOqu"
   },
   "outputs": [],
   "source": []
  }
 ],
 "metadata": {
  "colab": {
   "collapsed_sections": [],
   "name": "InitialBoxFigueroa.ipynb",
   "provenance": []
  },
  "kernelspec": {
   "display_name": "Python 3 (ipykernel)",
   "language": "python",
   "name": "python3"
  },
  "language_info": {
   "codemirror_mode": {
    "name": "ipython",
    "version": 3
   },
   "file_extension": ".py",
   "mimetype": "text/x-python",
   "name": "python",
   "nbconvert_exporter": "python",
   "pygments_lexer": "ipython3",
   "version": "3.11.9"
  }
 },
 "nbformat": 4,
 "nbformat_minor": 4
}
